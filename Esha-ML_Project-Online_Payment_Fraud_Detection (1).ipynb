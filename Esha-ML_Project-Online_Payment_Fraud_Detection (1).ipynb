{
 "cells": [
  {
   "cell_type": "markdown",
   "id": "3f324f26-31ff-4f3f-bdc7-762d6358784a",
   "metadata": {},
   "source": [
    "***ONLINE PAYMENT FRAUD DETECTION***"
   ]
  },
  {
   "cell_type": "markdown",
   "id": "45ea25c4-2d4e-4172-9e0a-a41aa58ea382",
   "metadata": {},
   "source": [
    "***Import neccessary libraries***"
   ]
  },
  {
   "cell_type": "code",
   "execution_count": 1,
   "id": "c8d08b4c",
   "metadata": {},
   "outputs": [],
   "source": [
    "import numpy as np\n",
    "import pandas as pd\n",
    "import matplotlib.pyplot as plt\n",
    "import seaborn as sns\n",
    "import warnings\n",
    "warnings.filterwarnings('ignore')"
   ]
  },
  {
   "cell_type": "markdown",
   "id": "c6b25c3a-2841-4b72-bdfc-c6b15f2ab3fa",
   "metadata": {},
   "source": [
    "***Read the csv file***"
   ]
  },
  {
   "cell_type": "code",
   "execution_count": 2,
   "id": "0ab38373",
   "metadata": {},
   "outputs": [
    {
     "data": {
      "text/html": [
       "<div>\n",
       "<style scoped>\n",
       "    .dataframe tbody tr th:only-of-type {\n",
       "        vertical-align: middle;\n",
       "    }\n",
       "\n",
       "    .dataframe tbody tr th {\n",
       "        vertical-align: top;\n",
       "    }\n",
       "\n",
       "    .dataframe thead th {\n",
       "        text-align: right;\n",
       "    }\n",
       "</style>\n",
       "<table border=\"1\" class=\"dataframe\">\n",
       "  <thead>\n",
       "    <tr style=\"text-align: right;\">\n",
       "      <th></th>\n",
       "      <th>step</th>\n",
       "      <th>type</th>\n",
       "      <th>amount</th>\n",
       "      <th>nameOrig</th>\n",
       "      <th>oldbalanceOrg</th>\n",
       "      <th>newbalanceOrig</th>\n",
       "      <th>nameDest</th>\n",
       "      <th>oldbalanceDest</th>\n",
       "      <th>newbalanceDest</th>\n",
       "      <th>isFraud</th>\n",
       "    </tr>\n",
       "  </thead>\n",
       "  <tbody>\n",
       "    <tr>\n",
       "      <th>0</th>\n",
       "      <td>1</td>\n",
       "      <td>PAYMENT</td>\n",
       "      <td>9839.64</td>\n",
       "      <td>C1231006815</td>\n",
       "      <td>170136.00</td>\n",
       "      <td>160296.36</td>\n",
       "      <td>M1979787155</td>\n",
       "      <td>0.00</td>\n",
       "      <td>0.00</td>\n",
       "      <td>0</td>\n",
       "    </tr>\n",
       "    <tr>\n",
       "      <th>1</th>\n",
       "      <td>1</td>\n",
       "      <td>PAYMENT</td>\n",
       "      <td>1864.28</td>\n",
       "      <td>C1666544295</td>\n",
       "      <td>21249.00</td>\n",
       "      <td>19384.72</td>\n",
       "      <td>M2044282225</td>\n",
       "      <td>0.00</td>\n",
       "      <td>0.00</td>\n",
       "      <td>0</td>\n",
       "    </tr>\n",
       "    <tr>\n",
       "      <th>2</th>\n",
       "      <td>1</td>\n",
       "      <td>TRANSFER</td>\n",
       "      <td>181.00</td>\n",
       "      <td>C1305486145</td>\n",
       "      <td>181.00</td>\n",
       "      <td>0.00</td>\n",
       "      <td>C553264065</td>\n",
       "      <td>0.00</td>\n",
       "      <td>0.00</td>\n",
       "      <td>1</td>\n",
       "    </tr>\n",
       "    <tr>\n",
       "      <th>3</th>\n",
       "      <td>1</td>\n",
       "      <td>CASH_OUT</td>\n",
       "      <td>181.00</td>\n",
       "      <td>C840083671</td>\n",
       "      <td>181.00</td>\n",
       "      <td>0.00</td>\n",
       "      <td>C38997010</td>\n",
       "      <td>21182.00</td>\n",
       "      <td>0.00</td>\n",
       "      <td>1</td>\n",
       "    </tr>\n",
       "    <tr>\n",
       "      <th>4</th>\n",
       "      <td>1</td>\n",
       "      <td>PAYMENT</td>\n",
       "      <td>11668.14</td>\n",
       "      <td>C2048537720</td>\n",
       "      <td>41554.00</td>\n",
       "      <td>29885.86</td>\n",
       "      <td>M1230701703</td>\n",
       "      <td>0.00</td>\n",
       "      <td>0.00</td>\n",
       "      <td>0</td>\n",
       "    </tr>\n",
       "    <tr>\n",
       "      <th>...</th>\n",
       "      <td>...</td>\n",
       "      <td>...</td>\n",
       "      <td>...</td>\n",
       "      <td>...</td>\n",
       "      <td>...</td>\n",
       "      <td>...</td>\n",
       "      <td>...</td>\n",
       "      <td>...</td>\n",
       "      <td>...</td>\n",
       "      <td>...</td>\n",
       "    </tr>\n",
       "    <tr>\n",
       "      <th>1048570</th>\n",
       "      <td>95</td>\n",
       "      <td>CASH_OUT</td>\n",
       "      <td>132557.35</td>\n",
       "      <td>C1179511630</td>\n",
       "      <td>479803.00</td>\n",
       "      <td>347245.65</td>\n",
       "      <td>C435674507</td>\n",
       "      <td>484329.37</td>\n",
       "      <td>616886.72</td>\n",
       "      <td>0</td>\n",
       "    </tr>\n",
       "    <tr>\n",
       "      <th>1048571</th>\n",
       "      <td>95</td>\n",
       "      <td>PAYMENT</td>\n",
       "      <td>9917.36</td>\n",
       "      <td>C1956161225</td>\n",
       "      <td>90545.00</td>\n",
       "      <td>80627.64</td>\n",
       "      <td>M668364942</td>\n",
       "      <td>0.00</td>\n",
       "      <td>0.00</td>\n",
       "      <td>0</td>\n",
       "    </tr>\n",
       "    <tr>\n",
       "      <th>1048572</th>\n",
       "      <td>95</td>\n",
       "      <td>PAYMENT</td>\n",
       "      <td>14140.05</td>\n",
       "      <td>C2037964975</td>\n",
       "      <td>20545.00</td>\n",
       "      <td>6404.95</td>\n",
       "      <td>M1355182933</td>\n",
       "      <td>0.00</td>\n",
       "      <td>0.00</td>\n",
       "      <td>0</td>\n",
       "    </tr>\n",
       "    <tr>\n",
       "      <th>1048573</th>\n",
       "      <td>95</td>\n",
       "      <td>PAYMENT</td>\n",
       "      <td>10020.05</td>\n",
       "      <td>C1633237354</td>\n",
       "      <td>90605.00</td>\n",
       "      <td>80584.95</td>\n",
       "      <td>M1964992463</td>\n",
       "      <td>0.00</td>\n",
       "      <td>0.00</td>\n",
       "      <td>0</td>\n",
       "    </tr>\n",
       "    <tr>\n",
       "      <th>1048574</th>\n",
       "      <td>95</td>\n",
       "      <td>PAYMENT</td>\n",
       "      <td>11450.03</td>\n",
       "      <td>C1264356443</td>\n",
       "      <td>80584.95</td>\n",
       "      <td>69134.92</td>\n",
       "      <td>M677577406</td>\n",
       "      <td>0.00</td>\n",
       "      <td>0.00</td>\n",
       "      <td>0</td>\n",
       "    </tr>\n",
       "  </tbody>\n",
       "</table>\n",
       "<p>1048575 rows × 10 columns</p>\n",
       "</div>"
      ],
      "text/plain": [
       "         step      type     amount     nameOrig  oldbalanceOrg  \\\n",
       "0           1   PAYMENT    9839.64  C1231006815      170136.00   \n",
       "1           1   PAYMENT    1864.28  C1666544295       21249.00   \n",
       "2           1  TRANSFER     181.00  C1305486145         181.00   \n",
       "3           1  CASH_OUT     181.00   C840083671         181.00   \n",
       "4           1   PAYMENT   11668.14  C2048537720       41554.00   \n",
       "...       ...       ...        ...          ...            ...   \n",
       "1048570    95  CASH_OUT  132557.35  C1179511630      479803.00   \n",
       "1048571    95   PAYMENT    9917.36  C1956161225       90545.00   \n",
       "1048572    95   PAYMENT   14140.05  C2037964975       20545.00   \n",
       "1048573    95   PAYMENT   10020.05  C1633237354       90605.00   \n",
       "1048574    95   PAYMENT   11450.03  C1264356443       80584.95   \n",
       "\n",
       "         newbalanceOrig     nameDest  oldbalanceDest  newbalanceDest  isFraud  \n",
       "0             160296.36  M1979787155            0.00            0.00        0  \n",
       "1              19384.72  M2044282225            0.00            0.00        0  \n",
       "2                  0.00   C553264065            0.00            0.00        1  \n",
       "3                  0.00    C38997010        21182.00            0.00        1  \n",
       "4              29885.86  M1230701703            0.00            0.00        0  \n",
       "...                 ...          ...             ...             ...      ...  \n",
       "1048570       347245.65   C435674507       484329.37       616886.72        0  \n",
       "1048571        80627.64   M668364942            0.00            0.00        0  \n",
       "1048572         6404.95  M1355182933            0.00            0.00        0  \n",
       "1048573        80584.95  M1964992463            0.00            0.00        0  \n",
       "1048574        69134.92   M677577406            0.00            0.00        0  \n",
       "\n",
       "[1048575 rows x 10 columns]"
      ]
     },
     "execution_count": 2,
     "metadata": {},
     "output_type": "execute_result"
    }
   ],
   "source": [
    "df = pd.read_csv('C:\\\\Users\\\\Aaditya\\\\Downloads\\Project\\\\Online_Payment_Fraud_Detection.csv')\n",
    "df"
   ]
  },
  {
   "cell_type": "markdown",
   "id": "510380e1-ea8d-492e-ac98-1bea549541e3",
   "metadata": {},
   "source": [
    "***About data:***\n",
    "1. *Step: Represents a unit of time, where each step corresponds to a specific timeframe, often one hour.*\n",
    "2. *Type: Indicates the type of online transaction, specifying whether it's a transfer, payment, etc.*\n",
    "3. *Amount: Represents the monetary value involved in the transaction.*\n",
    "4. *NameOrig: Identifies the customer initiating the transaction.*\n",
    "5. *OldbalanceOrg: Reflects the account balance before the transaction for the originating customer.*\n",
    "6. *NewbalanceOrig: Represents the account balance after the transaction for the originating customer.*\n",
    "7. *NameDest: Identifies the recipient of the transaction.*\n",
    "8. *OldbalanceDest: Indicates the initial balance of the recipient before the transaction.*\n",
    "9. *NewbalanceDest: Represents the new balance of the recipient after the transaction.*\n",
    "10. *IsFraud:  A binary indicator specifying whether the transaction is fraudulent (1) or legitimate (0).*"
   ]
  },
  {
   "cell_type": "markdown",
   "id": "f6f58814-f382-4b9f-8386-3d36cf928afd",
   "metadata": {},
   "source": [
    "***Display the non-null count and data type of each columns***"
   ]
  },
  {
   "cell_type": "code",
   "execution_count": 3,
   "id": "6df31e67",
   "metadata": {},
   "outputs": [
    {
     "name": "stdout",
     "output_type": "stream",
     "text": [
      "<class 'pandas.core.frame.DataFrame'>\n",
      "RangeIndex: 1048575 entries, 0 to 1048574\n",
      "Data columns (total 10 columns):\n",
      " #   Column          Non-Null Count    Dtype  \n",
      "---  ------          --------------    -----  \n",
      " 0   step            1048575 non-null  int64  \n",
      " 1   type            1048575 non-null  object \n",
      " 2   amount          1048573 non-null  float64\n",
      " 3   nameOrig        1048573 non-null  object \n",
      " 4   oldbalanceOrg   1048574 non-null  float64\n",
      " 5   newbalanceOrig  1048575 non-null  float64\n",
      " 6   nameDest        1048574 non-null  object \n",
      " 7   oldbalanceDest  1048575 non-null  float64\n",
      " 8   newbalanceDest  1048574 non-null  float64\n",
      " 9   isFraud         1048575 non-null  int64  \n",
      "dtypes: float64(5), int64(2), object(3)\n",
      "memory usage: 80.0+ MB\n"
     ]
    }
   ],
   "source": [
    "df.info()"
   ]
  },
  {
   "cell_type": "markdown",
   "id": "b874c68b-ef88-4da3-a44c-781654ee041e",
   "metadata": {},
   "source": [
    "*Every datatype looks correct as per the columns.*"
   ]
  },
  {
   "cell_type": "markdown",
   "id": "e6393860-7805-49f0-bf10-ede03c78d7fd",
   "metadata": {},
   "source": [
    "***Display the statistical values of numeric columns***"
   ]
  },
  {
   "cell_type": "code",
   "execution_count": 4,
   "id": "7bc7c647",
   "metadata": {},
   "outputs": [
    {
     "data": {
      "text/html": [
       "<div>\n",
       "<style scoped>\n",
       "    .dataframe tbody tr th:only-of-type {\n",
       "        vertical-align: middle;\n",
       "    }\n",
       "\n",
       "    .dataframe tbody tr th {\n",
       "        vertical-align: top;\n",
       "    }\n",
       "\n",
       "    .dataframe thead th {\n",
       "        text-align: right;\n",
       "    }\n",
       "</style>\n",
       "<table border=\"1\" class=\"dataframe\">\n",
       "  <thead>\n",
       "    <tr style=\"text-align: right;\">\n",
       "      <th></th>\n",
       "      <th>step</th>\n",
       "      <th>amount</th>\n",
       "      <th>oldbalanceOrg</th>\n",
       "      <th>newbalanceOrig</th>\n",
       "      <th>oldbalanceDest</th>\n",
       "      <th>newbalanceDest</th>\n",
       "      <th>isFraud</th>\n",
       "    </tr>\n",
       "  </thead>\n",
       "  <tbody>\n",
       "    <tr>\n",
       "      <th>count</th>\n",
       "      <td>1.048575e+06</td>\n",
       "      <td>1.048573e+06</td>\n",
       "      <td>1.048574e+06</td>\n",
       "      <td>1.048575e+06</td>\n",
       "      <td>1.048575e+06</td>\n",
       "      <td>1.048574e+06</td>\n",
       "      <td>1.048575e+06</td>\n",
       "    </tr>\n",
       "    <tr>\n",
       "      <th>mean</th>\n",
       "      <td>2.696617e+01</td>\n",
       "      <td>1.586672e+05</td>\n",
       "      <td>8.740103e+05</td>\n",
       "      <td>8.937996e+05</td>\n",
       "      <td>9.781600e+05</td>\n",
       "      <td>1.114195e+06</td>\n",
       "      <td>1.296045e-03</td>\n",
       "    </tr>\n",
       "    <tr>\n",
       "      <th>std</th>\n",
       "      <td>1.562325e+01</td>\n",
       "      <td>2.649411e+05</td>\n",
       "      <td>2.971752e+06</td>\n",
       "      <td>3.008260e+06</td>\n",
       "      <td>2.296780e+06</td>\n",
       "      <td>2.416592e+06</td>\n",
       "      <td>3.597730e-02</td>\n",
       "    </tr>\n",
       "    <tr>\n",
       "      <th>min</th>\n",
       "      <td>1.000000e+00</td>\n",
       "      <td>1.000000e-01</td>\n",
       "      <td>0.000000e+00</td>\n",
       "      <td>0.000000e+00</td>\n",
       "      <td>0.000000e+00</td>\n",
       "      <td>0.000000e+00</td>\n",
       "      <td>0.000000e+00</td>\n",
       "    </tr>\n",
       "    <tr>\n",
       "      <th>25%</th>\n",
       "      <td>1.500000e+01</td>\n",
       "      <td>1.214904e+04</td>\n",
       "      <td>0.000000e+00</td>\n",
       "      <td>0.000000e+00</td>\n",
       "      <td>0.000000e+00</td>\n",
       "      <td>0.000000e+00</td>\n",
       "      <td>0.000000e+00</td>\n",
       "    </tr>\n",
       "    <tr>\n",
       "      <th>50%</th>\n",
       "      <td>2.000000e+01</td>\n",
       "      <td>7.634393e+04</td>\n",
       "      <td>1.600186e+04</td>\n",
       "      <td>0.000000e+00</td>\n",
       "      <td>1.263772e+05</td>\n",
       "      <td>2.182581e+05</td>\n",
       "      <td>0.000000e+00</td>\n",
       "    </tr>\n",
       "    <tr>\n",
       "      <th>75%</th>\n",
       "      <td>3.900000e+01</td>\n",
       "      <td>2.137620e+05</td>\n",
       "      <td>1.366425e+05</td>\n",
       "      <td>1.745921e+05</td>\n",
       "      <td>9.159235e+05</td>\n",
       "      <td>1.149787e+06</td>\n",
       "      <td>0.000000e+00</td>\n",
       "    </tr>\n",
       "    <tr>\n",
       "      <th>max</th>\n",
       "      <td>9.500000e+01</td>\n",
       "      <td>1.000000e+07</td>\n",
       "      <td>3.890000e+07</td>\n",
       "      <td>3.890000e+07</td>\n",
       "      <td>4.210000e+07</td>\n",
       "      <td>4.220000e+07</td>\n",
       "      <td>1.000000e+00</td>\n",
       "    </tr>\n",
       "  </tbody>\n",
       "</table>\n",
       "</div>"
      ],
      "text/plain": [
       "               step        amount  oldbalanceOrg  newbalanceOrig  \\\n",
       "count  1.048575e+06  1.048573e+06   1.048574e+06    1.048575e+06   \n",
       "mean   2.696617e+01  1.586672e+05   8.740103e+05    8.937996e+05   \n",
       "std    1.562325e+01  2.649411e+05   2.971752e+06    3.008260e+06   \n",
       "min    1.000000e+00  1.000000e-01   0.000000e+00    0.000000e+00   \n",
       "25%    1.500000e+01  1.214904e+04   0.000000e+00    0.000000e+00   \n",
       "50%    2.000000e+01  7.634393e+04   1.600186e+04    0.000000e+00   \n",
       "75%    3.900000e+01  2.137620e+05   1.366425e+05    1.745921e+05   \n",
       "max    9.500000e+01  1.000000e+07   3.890000e+07    3.890000e+07   \n",
       "\n",
       "       oldbalanceDest  newbalanceDest       isFraud  \n",
       "count    1.048575e+06    1.048574e+06  1.048575e+06  \n",
       "mean     9.781600e+05    1.114195e+06  1.296045e-03  \n",
       "std      2.296780e+06    2.416592e+06  3.597730e-02  \n",
       "min      0.000000e+00    0.000000e+00  0.000000e+00  \n",
       "25%      0.000000e+00    0.000000e+00  0.000000e+00  \n",
       "50%      1.263772e+05    2.182581e+05  0.000000e+00  \n",
       "75%      9.159235e+05    1.149787e+06  0.000000e+00  \n",
       "max      4.210000e+07    4.220000e+07  1.000000e+00  "
      ]
     },
     "execution_count": 4,
     "metadata": {},
     "output_type": "execute_result"
    }
   ],
   "source": [
    "df.describe()"
   ]
  },
  {
   "cell_type": "markdown",
   "id": "f1c1b636-0c7a-473d-83e6-e4f521dfce92",
   "metadata": {},
   "source": [
    "***Display the sum of null values***"
   ]
  },
  {
   "cell_type": "code",
   "execution_count": 5,
   "id": "03fe4d05",
   "metadata": {},
   "outputs": [
    {
     "data": {
      "text/plain": [
       "step              0\n",
       "type              0\n",
       "amount            2\n",
       "nameOrig          2\n",
       "oldbalanceOrg     1\n",
       "newbalanceOrig    0\n",
       "nameDest          1\n",
       "oldbalanceDest    0\n",
       "newbalanceDest    1\n",
       "isFraud           0\n",
       "dtype: int64"
      ]
     },
     "execution_count": 5,
     "metadata": {},
     "output_type": "execute_result"
    }
   ],
   "source": [
    "df.isnull().sum()"
   ]
  },
  {
   "cell_type": "markdown",
   "id": "000bb9ab-e95e-4682-8d0f-83b8cdb9b470",
   "metadata": {},
   "source": [
    "*There are few null values in amount, nameOrig, oldbalanceOrig, nameDest and newbalanceDest columns.*"
   ]
  },
  {
   "cell_type": "markdown",
   "id": "134f9f23-3596-43f6-8f70-165072e4202c",
   "metadata": {},
   "source": [
    "***Display the number of rows and columns***"
   ]
  },
  {
   "cell_type": "code",
   "execution_count": 6,
   "id": "0118a67f-eb7d-4a5c-ae7a-2c7baca38340",
   "metadata": {},
   "outputs": [
    {
     "data": {
      "text/plain": [
       "(1048575, 10)"
      ]
     },
     "execution_count": 6,
     "metadata": {},
     "output_type": "execute_result"
    }
   ],
   "source": [
    "df.shape"
   ]
  },
  {
   "cell_type": "markdown",
   "id": "94fdfa35-023a-4def-92a1-8e5643c2d4a8",
   "metadata": {},
   "source": [
    "*There are 1048575 rows and 10 columns.*"
   ]
  },
  {
   "cell_type": "markdown",
   "id": "97c43895-5f3e-4f49-b0e8-40fd5fb67a4d",
   "metadata": {},
   "source": [
    "***Drop the null values from the original DataFrame***"
   ]
  },
  {
   "cell_type": "code",
   "execution_count": 7,
   "id": "98056af7",
   "metadata": {},
   "outputs": [],
   "source": [
    "df.dropna(inplace=True)"
   ]
  },
  {
   "cell_type": "markdown",
   "id": "57a3d749-f63a-4338-9b0e-7c95260170a9",
   "metadata": {},
   "source": [
    "*As we've massive amount of data and less number of null values.\n",
    "We've droped the null values directly.*"
   ]
  },
  {
   "cell_type": "markdown",
   "id": "ed5c9c4b-74c2-4860-a11e-557e20de41b0",
   "metadata": {},
   "source": [
    "***Display the sum of duplicated values***"
   ]
  },
  {
   "cell_type": "code",
   "execution_count": 8,
   "id": "ebfbaef0",
   "metadata": {},
   "outputs": [
    {
     "data": {
      "text/plain": [
       "0"
      ]
     },
     "execution_count": 8,
     "metadata": {},
     "output_type": "execute_result"
    }
   ],
   "source": [
    "df.duplicated().sum()"
   ]
  },
  {
   "cell_type": "markdown",
   "id": "ca2b0891-7180-48d7-bc7b-22018bacdead",
   "metadata": {},
   "source": [
    "*There are no duplicate values.*"
   ]
  },
  {
   "cell_type": "markdown",
   "id": "e5238fa8-0753-4033-a6e3-40afdd3f8b11",
   "metadata": {},
   "source": [
    "***Display the statistical values of Non-Numeric columns***"
   ]
  },
  {
   "cell_type": "code",
   "execution_count": 9,
   "id": "f8e279e5",
   "metadata": {},
   "outputs": [
    {
     "data": {
      "text/html": [
       "<div>\n",
       "<style scoped>\n",
       "    .dataframe tbody tr th:only-of-type {\n",
       "        vertical-align: middle;\n",
       "    }\n",
       "\n",
       "    .dataframe tbody tr th {\n",
       "        vertical-align: top;\n",
       "    }\n",
       "\n",
       "    .dataframe thead th {\n",
       "        text-align: right;\n",
       "    }\n",
       "</style>\n",
       "<table border=\"1\" class=\"dataframe\">\n",
       "  <thead>\n",
       "    <tr style=\"text-align: right;\">\n",
       "      <th></th>\n",
       "      <th>type</th>\n",
       "      <th>nameOrig</th>\n",
       "      <th>nameDest</th>\n",
       "    </tr>\n",
       "  </thead>\n",
       "  <tbody>\n",
       "    <tr>\n",
       "      <th>count</th>\n",
       "      <td>1048568</td>\n",
       "      <td>1048568</td>\n",
       "      <td>1048568</td>\n",
       "    </tr>\n",
       "    <tr>\n",
       "      <th>unique</th>\n",
       "      <td>5</td>\n",
       "      <td>1048310</td>\n",
       "      <td>449632</td>\n",
       "    </tr>\n",
       "    <tr>\n",
       "      <th>top</th>\n",
       "      <td>CASH_OUT</td>\n",
       "      <td>C1268675361</td>\n",
       "      <td>C985934102</td>\n",
       "    </tr>\n",
       "    <tr>\n",
       "      <th>freq</th>\n",
       "      <td>373638</td>\n",
       "      <td>2</td>\n",
       "      <td>98</td>\n",
       "    </tr>\n",
       "  </tbody>\n",
       "</table>\n",
       "</div>"
      ],
      "text/plain": [
       "            type     nameOrig    nameDest\n",
       "count    1048568      1048568     1048568\n",
       "unique         5      1048310      449632\n",
       "top     CASH_OUT  C1268675361  C985934102\n",
       "freq      373638            2          98"
      ]
     },
     "execution_count": 9,
     "metadata": {},
     "output_type": "execute_result"
    }
   ],
   "source": [
    "df.describe(include='object')"
   ]
  },
  {
   "cell_type": "markdown",
   "id": "422a24c5-4967-4645-bc84-47364426fa74",
   "metadata": {},
   "source": [
    "*The above function shows that:*\n",
    "\n",
    "*There are 5 distinct types of transactions in which Cash-outs are made maximum number of times.\n",
    "The maximum number of transactions are 2 which are made from C1268675361.\n",
    "And maximum number of transactions are made to C985934102 whose frequency is 98 times.*"
   ]
  },
  {
   "cell_type": "markdown",
   "id": "efa621c8-70dd-43e6-97ce-a48e5f2f364e",
   "metadata": {},
   "source": [
    "***Display the number of times each type of transactions are made***"
   ]
  },
  {
   "cell_type": "markdown",
   "id": "d98b105d-e521-4d84-8a9f-8e1a22e7a53b",
   "metadata": {},
   "source": [
    "*As the data is massive we will use seaborn for visualization.*"
   ]
  },
  {
   "cell_type": "code",
   "execution_count": 10,
   "id": "fd394f3f",
   "metadata": {},
   "outputs": [
    {
     "data": {
      "image/png": "[encoded data removed]",
      "text/plain": [
       "<Figure size 800x800 with 1 Axes>"
      ]
     },
     "metadata": {},
     "output_type": "display_data"
    }
   ],
   "source": [
    "plt.figure(figsize=(8,8))\n",
    "sns.countplot(x=df['type'])\n",
    "plt.title('COUNT OF EACH TYPE')\n",
    "plt.xlabel('Type of Transaction')\n",
    "plt.ylabel('Count of Type')\n",
    "plt.show()"
   ]
  },
  {
   "cell_type": "markdown",
   "id": "38cd4d99-4827-4e07-9016-01d9fb60f131",
   "metadata": {},
   "source": [
    "*In the above count plot, we've seen that the maximum count of transactions is done through cash-out or payment whereas the transactions through cash-ins are in counted less than that.\n",
    "Transactions of transfers and debits are less as compared to others.*"
   ]
  },
  {
   "cell_type": "markdown",
   "id": "91b4a167-aaac-4687-864c-01ddd13a6152",
   "metadata": {},
   "source": [
    "***Display the amount of transactions are made through each type***"
   ]
  },
  {
   "cell_type": "code",
   "execution_count": 11,
   "id": "21c242d3",
   "metadata": {},
   "outputs": [
    {
     "data": {
      "image/png": "[encoded data removed]",
      "text/plain": [
       "<Figure size 640x480 with 1 Axes>"
      ]
     },
     "metadata": {},
     "output_type": "display_data"
    }
   ],
   "source": [
    "sns.barplot(data=df,x=df['type'],y=df['amount'])\n",
    "plt.title('AMOUNT OF TYPE OF TRANSACTION')\n",
    "plt.xlabel('Type of Transaction')\n",
    "plt.ylabel('Amount of Transaction')\n",
    "plt.show()"
   ]
  },
  {
   "cell_type": "markdown",
   "id": "206ab282-7b4d-45cc-8277-b8ded615621f",
   "metadata": {},
   "source": [
    "*In the above bar graph, the maximum amount is used while transferring whereas smaller amount is used through cash-ins and cash-outs.\n",
    "Minimum amount is utilized during payments and debits.*"
   ]
  },
  {
   "cell_type": "markdown",
   "id": "24583a9d-eb9b-4b58-9187-ccb1605830a6",
   "metadata": {},
   "source": [
    "***Display the amount of transaction made through each type categorized into Frauds and Legits***"
   ]
  },
  {
   "cell_type": "code",
   "execution_count": 12,
   "id": "a909c254",
   "metadata": {},
   "outputs": [
    {
     "data": {
      "image/png": "[encoded data removed]",
      "text/plain": [
       "<Figure size 800x800 with 1 Axes>"
      ]
     },
     "metadata": {},
     "output_type": "display_data"
    }
   ],
   "source": [
    "plt.figure(figsize=(8,8))\n",
    "sns.barplot(data=df,x=df['type'],y=df['amount'],hue=df['isFraud'])\n",
    "plt.title('CATEGORIZATION OF TYPE AND AMOUNT OF TRANSACTION')\n",
    "plt.xlabel('Type of transaction')\n",
    "plt.ylabel('Amount of transaction')\n",
    "plt.legend()\n",
    "plt.show()"
   ]
  },
  {
   "cell_type": "markdown",
   "id": "21ca3ffb-ee4b-4cc2-a255-b320b3a16493",
   "metadata": {},
   "source": [
    "*In the above graph, 0 represents Legit transactions and 1 represents Fraudulent Transactions. Maximum number of fraudulent transactions are done using transfer and cash-out. Debit have less number of fraudulent transactions. And Payment and cash-ins have almost the equal number of fraud and legit transactions.\n",
    "Here, the values indicates millions. Eg. 0.2 = 0.2 millions i.e. 2,00,000*"
   ]
  },
  {
   "cell_type": "markdown",
   "id": "1da7f6c0-271a-40cc-a15e-8e7049fa5f78",
   "metadata": {},
   "source": [
    "***Display the relationship between Step and Amount differentiated by Fraud and Legit***"
   ]
  },
  {
   "cell_type": "code",
   "execution_count": 13,
   "id": "cac20b4c",
   "metadata": {},
   "outputs": [
    {
     "data": {
      "image/png": "[encoded data removed]",
      "text/plain": [
       "<Figure size 800x800 with 1 Axes>"
      ]
     },
     "metadata": {},
     "output_type": "display_data"
    }
   ],
   "source": [
    "plt.figure(figsize=(8,8))\n",
    "sns.scatterplot(data=df,x=df['step'],y=df['amount'],hue=df['isFraud'])\n",
    "plt.legend()\n",
    "plt.show()"
   ]
  },
  {
   "cell_type": "markdown",
   "id": "655a2328-7eba-42e6-af07-926c27da88b9",
   "metadata": {},
   "source": [
    "*The above scatter plot shows that no matter what step it is, there are gonna be fraud tansactions.\n",
    "But the Legit Transaction didn't exceeds 7 millions. Here, the values after the decimal point indicates millions. Eg. 0.2 = 2 million i.e. 2,000,000*"
   ]
  },
  {
   "cell_type": "markdown",
   "id": "bae499fa-d92d-4187-8c04-7fb4237497f5",
   "metadata": {},
   "source": [
    "***Display the percent of Fraud and Legit transactions in dataset***"
   ]
  },
  {
   "cell_type": "code",
   "execution_count": 14,
   "id": "99ce10b0",
   "metadata": {},
   "outputs": [
    {
     "data": {
      "image/png": "[encoded data removed]",
      "text/plain": [
       "<Figure size 640x480 with 1 Axes>"
      ]
     },
     "metadata": {},
     "output_type": "display_data"
    }
   ],
   "source": [
    "df['isFraud'].value_counts().plot(kind='pie',autopct='%1.2f%%')\n",
    "plt.legend()\n",
    "plt.show()"
   ]
  },
  {
   "cell_type": "markdown",
   "id": "ac2c9f12-71f4-4fc2-a24c-7cc125e86bd7",
   "metadata": {},
   "source": [
    "*Above pie chart shows that only 0.13% of Transactions are Fraud and remaining 99.87% of transactions are Legit.\n",
    "We should be glad that there are very less fraud transactions compared to the Legit ones.*"
   ]
  },
  {
   "cell_type": "markdown",
   "id": "b00591b5-a2b8-4708-b79c-e5da2862146c",
   "metadata": {},
   "source": [
    "***Create a series consisting of categorical column names***"
   ]
  },
  {
   "cell_type": "code",
   "execution_count": 15,
   "id": "bbc00643",
   "metadata": {},
   "outputs": [
    {
     "data": {
      "text/plain": [
       "Index(['type', 'nameOrig', 'nameDest'], dtype='object')"
      ]
     },
     "execution_count": 15,
     "metadata": {},
     "output_type": "execute_result"
    }
   ],
   "source": [
    "cat_col = df.select_dtypes ('object').columns\n",
    "cat_col"
   ]
  },
  {
   "cell_type": "markdown",
   "id": "582fdb9b-2247-4dc6-87e9-dd5e231c619f",
   "metadata": {},
   "source": [
    "***Import LabelEcoder***"
   ]
  },
  {
   "cell_type": "code",
   "execution_count": 16,
   "id": "b91b3a4f",
   "metadata": {},
   "outputs": [],
   "source": [
    "from sklearn.preprocessing import LabelEncoder\n",
    "le = LabelEncoder()"
   ]
  },
  {
   "cell_type": "markdown",
   "id": "10c2ccdf-5018-46d4-bf1d-571c1b2287ec",
   "metadata": {},
   "source": [
    "***Fit and transform the categorical columns into numeric columns using Encoder***"
   ]
  },
  {
   "cell_type": "code",
   "execution_count": 17,
   "id": "c2ca8ed9",
   "metadata": {},
   "outputs": [],
   "source": [
    "for i in range(0,len(cat_col)):\n",
    "    df[cat_col[i]] = le.fit_transform(df[cat_col[i]])"
   ]
  },
  {
   "cell_type": "markdown",
   "id": "a5997b4b-ac60-4858-8348-186acdaade62",
   "metadata": {},
   "source": [
    "***Check if all the columns are numeric***"
   ]
  },
  {
   "cell_type": "code",
   "execution_count": 18,
   "id": "b43e5eec",
   "metadata": {},
   "outputs": [
    {
     "data": {
      "text/html": [
       "<div>\n",
       "<style scoped>\n",
       "    .dataframe tbody tr th:only-of-type {\n",
       "        vertical-align: middle;\n",
       "    }\n",
       "\n",
       "    .dataframe tbody tr th {\n",
       "        vertical-align: top;\n",
       "    }\n",
       "\n",
       "    .dataframe thead th {\n",
       "        text-align: right;\n",
       "    }\n",
       "</style>\n",
       "<table border=\"1\" class=\"dataframe\">\n",
       "  <thead>\n",
       "    <tr style=\"text-align: right;\">\n",
       "      <th></th>\n",
       "      <th>step</th>\n",
       "      <th>type</th>\n",
       "      <th>amount</th>\n",
       "      <th>nameOrig</th>\n",
       "      <th>oldbalanceOrg</th>\n",
       "      <th>newbalanceOrig</th>\n",
       "      <th>nameDest</th>\n",
       "      <th>oldbalanceDest</th>\n",
       "      <th>newbalanceDest</th>\n",
       "      <th>isFraud</th>\n",
       "    </tr>\n",
       "  </thead>\n",
       "  <tbody>\n",
       "    <tr>\n",
       "      <th>0</th>\n",
       "      <td>1</td>\n",
       "      <td>3</td>\n",
       "      <td>9839.64</td>\n",
       "      <td>125161</td>\n",
       "      <td>170136.00</td>\n",
       "      <td>160296.36</td>\n",
       "      <td>274915</td>\n",
       "      <td>0.00</td>\n",
       "      <td>0.00</td>\n",
       "      <td>0</td>\n",
       "    </tr>\n",
       "    <tr>\n",
       "      <th>1</th>\n",
       "      <td>1</td>\n",
       "      <td>3</td>\n",
       "      <td>1864.28</td>\n",
       "      <td>361316</td>\n",
       "      <td>21249.00</td>\n",
       "      <td>19384.72</td>\n",
       "      <td>286714</td>\n",
       "      <td>0.00</td>\n",
       "      <td>0.00</td>\n",
       "      <td>0</td>\n",
       "    </tr>\n",
       "    <tr>\n",
       "      <th>2</th>\n",
       "      <td>1</td>\n",
       "      <td>4</td>\n",
       "      <td>181.00</td>\n",
       "      <td>165233</td>\n",
       "      <td>181.00</td>\n",
       "      <td>0.00</td>\n",
       "      <td>73550</td>\n",
       "      <td>0.00</td>\n",
       "      <td>0.00</td>\n",
       "      <td>1</td>\n",
       "    </tr>\n",
       "    <tr>\n",
       "      <th>3</th>\n",
       "      <td>1</td>\n",
       "      <td>1</td>\n",
       "      <td>181.00</td>\n",
       "      <td>961655</td>\n",
       "      <td>181.00</td>\n",
       "      <td>0.00</td>\n",
       "      <td>65464</td>\n",
       "      <td>21182.00</td>\n",
       "      <td>0.00</td>\n",
       "      <td>1</td>\n",
       "    </tr>\n",
       "    <tr>\n",
       "      <th>4</th>\n",
       "      <td>1</td>\n",
       "      <td>3</td>\n",
       "      <td>11668.14</td>\n",
       "      <td>567911</td>\n",
       "      <td>41554.00</td>\n",
       "      <td>29885.86</td>\n",
       "      <td>138001</td>\n",
       "      <td>0.00</td>\n",
       "      <td>0.00</td>\n",
       "      <td>0</td>\n",
       "    </tr>\n",
       "    <tr>\n",
       "      <th>...</th>\n",
       "      <td>...</td>\n",
       "      <td>...</td>\n",
       "      <td>...</td>\n",
       "      <td>...</td>\n",
       "      <td>...</td>\n",
       "      <td>...</td>\n",
       "      <td>...</td>\n",
       "      <td>...</td>\n",
       "      <td>...</td>\n",
       "      <td>...</td>\n",
       "    </tr>\n",
       "    <tr>\n",
       "      <th>1048570</th>\n",
       "      <td>95</td>\n",
       "      <td>1</td>\n",
       "      <td>132557.35</td>\n",
       "      <td>97389</td>\n",
       "      <td>479803.00</td>\n",
       "      <td>347245.65</td>\n",
       "      <td>67716</td>\n",
       "      <td>484329.37</td>\n",
       "      <td>616886.72</td>\n",
       "      <td>0</td>\n",
       "    </tr>\n",
       "    <tr>\n",
       "      <th>1048571</th>\n",
       "      <td>95</td>\n",
       "      <td>3</td>\n",
       "      <td>9917.36</td>\n",
       "      <td>517550</td>\n",
       "      <td>90545.00</td>\n",
       "      <td>80627.64</td>\n",
       "      <td>388385</td>\n",
       "      <td>0.00</td>\n",
       "      <td>0.00</td>\n",
       "      <td>0</td>\n",
       "    </tr>\n",
       "    <tr>\n",
       "      <th>1048572</th>\n",
       "      <td>95</td>\n",
       "      <td>3</td>\n",
       "      <td>14140.05</td>\n",
       "      <td>562204</td>\n",
       "      <td>20545.00</td>\n",
       "      <td>6404.95</td>\n",
       "      <td>160789</td>\n",
       "      <td>0.00</td>\n",
       "      <td>0.00</td>\n",
       "      <td>0</td>\n",
       "    </tr>\n",
       "    <tr>\n",
       "      <th>1048573</th>\n",
       "      <td>95</td>\n",
       "      <td>3</td>\n",
       "      <td>10020.05</td>\n",
       "      <td>343314</td>\n",
       "      <td>90605.00</td>\n",
       "      <td>80584.95</td>\n",
       "      <td>272150</td>\n",
       "      <td>0.00</td>\n",
       "      <td>0.00</td>\n",
       "      <td>0</td>\n",
       "    </tr>\n",
       "    <tr>\n",
       "      <th>1048574</th>\n",
       "      <td>95</td>\n",
       "      <td>3</td>\n",
       "      <td>11450.03</td>\n",
       "      <td>143046</td>\n",
       "      <td>80584.95</td>\n",
       "      <td>69134.92</td>\n",
       "      <td>390001</td>\n",
       "      <td>0.00</td>\n",
       "      <td>0.00</td>\n",
       "      <td>0</td>\n",
       "    </tr>\n",
       "  </tbody>\n",
       "</table>\n",
       "<p>1048568 rows × 10 columns</p>\n",
       "</div>"
      ],
      "text/plain": [
       "         step  type     amount  nameOrig  oldbalanceOrg  newbalanceOrig  \\\n",
       "0           1     3    9839.64    125161      170136.00       160296.36   \n",
       "1           1     3    1864.28    361316       21249.00        19384.72   \n",
       "2           1     4     181.00    165233         181.00            0.00   \n",
       "3           1     1     181.00    961655         181.00            0.00   \n",
       "4           1     3   11668.14    567911       41554.00        29885.86   \n",
       "...       ...   ...        ...       ...            ...             ...   \n",
       "1048570    95     1  132557.35     97389      479803.00       347245.65   \n",
       "1048571    95     3    9917.36    517550       90545.00        80627.64   \n",
       "1048572    95     3   14140.05    562204       20545.00         6404.95   \n",
       "1048573    95     3   10020.05    343314       90605.00        80584.95   \n",
       "1048574    95     3   11450.03    143046       80584.95        69134.92   \n",
       "\n",
       "         nameDest  oldbalanceDest  newbalanceDest  isFraud  \n",
       "0          274915            0.00            0.00        0  \n",
       "1          286714            0.00            0.00        0  \n",
       "2           73550            0.00            0.00        1  \n",
       "3           65464        21182.00            0.00        1  \n",
       "4          138001            0.00            0.00        0  \n",
       "...           ...             ...             ...      ...  \n",
       "1048570     67716       484329.37       616886.72        0  \n",
       "1048571    388385            0.00            0.00        0  \n",
       "1048572    160789            0.00            0.00        0  \n",
       "1048573    272150            0.00            0.00        0  \n",
       "1048574    390001            0.00            0.00        0  \n",
       "\n",
       "[1048568 rows x 10 columns]"
      ]
     },
     "execution_count": 18,
     "metadata": {},
     "output_type": "execute_result"
    }
   ],
   "source": [
    "df"
   ]
  },
  {
   "cell_type": "markdown",
   "id": "cc5c1047-9d0a-4296-a314-91b076f1a08c",
   "metadata": {},
   "source": [
    "***Display the relation between all columns***"
   ]
  },
  {
   "cell_type": "code",
   "execution_count": 19,
   "id": "18e236c0",
   "metadata": {},
   "outputs": [
    {
     "data": {
      "text/plain": [
       "<Axes: >"
      ]
     },
     "execution_count": 19,
     "metadata": {},
     "output_type": "execute_result"
    },
    {
     "data": {
      "image/png": "[encoded data removed]",
      "text/plain": [
       "<Figure size 800x800 with 2 Axes>"
      ]
     },
     "metadata": {},
     "output_type": "display_data"
    }
   ],
   "source": [
    "plt.figure(figsize=(8,8))\n",
    "sns.heatmap(data=df.iloc[:,:-1].corr())"
   ]
  },
  {
   "cell_type": "markdown",
   "id": "59397916-c226-43b7-9ffc-d72c31dc8f73",
   "metadata": {},
   "source": [
    "*As we can see only newbalanceOrig and newbalanceDest are correlated with oldbalanceOrg and oldbalanceDest.\n",
    "It is obvious for these columns that they are correlated as the amount is transferred it will reflect the equal amount of changes between new balance and old balance.\n",
    "None other columns are correlated.*"
   ]
  },
  {
   "cell_type": "markdown",
   "id": "9e0c45ea-e178-4a20-aa6d-b4da868f576e",
   "metadata": {},
   "source": [
    "***Check if the data is imbalanced or not. Display the number of rows of target column***"
   ]
  },
  {
   "cell_type": "code",
   "execution_count": 20,
   "id": "00f81599",
   "metadata": {},
   "outputs": [],
   "source": [
    "count_0,count_1 = df['isFraud'].value_counts()\n",
    "df_0= df[df['isFraud']==0]\n",
    "df_1= df[df['isFraud']==1]"
   ]
  },
  {
   "cell_type": "code",
   "execution_count": 21,
   "id": "98cf55ba-49b3-4a6a-b361-4cdb246fd27b",
   "metadata": {},
   "outputs": [
    {
     "data": {
      "text/plain": [
       "(1047209, 10)"
      ]
     },
     "execution_count": 21,
     "metadata": {},
     "output_type": "execute_result"
    }
   ],
   "source": [
    "df_0.shape"
   ]
  },
  {
   "cell_type": "code",
   "execution_count": 22,
   "id": "13df0d54-31d1-4735-8799-24b8d7bbb42b",
   "metadata": {},
   "outputs": [
    {
     "data": {
      "text/plain": [
       "(1359, 10)"
      ]
     },
     "execution_count": 22,
     "metadata": {},
     "output_type": "execute_result"
    }
   ],
   "source": [
    "df_1.shape"
   ]
  },
  {
   "cell_type": "markdown",
   "id": "e1fcab31-647f-455b-aaef-0f6d330e5de6",
   "metadata": {},
   "source": [
    "*We can see there's a huge difference between the rows of Frauds and Legits i.e. The model is imbalanced.*"
   ]
  },
  {
   "cell_type": "code",
   "execution_count": 23,
   "id": "81f7af4b-e1c8-4939-95d3-9e501c4e55b6",
   "metadata": {},
   "outputs": [
    {
     "data": {
      "text/plain": [
       "1047209"
      ]
     },
     "execution_count": 23,
     "metadata": {},
     "output_type": "execute_result"
    }
   ],
   "source": [
    "count_0"
   ]
  },
  {
   "cell_type": "code",
   "execution_count": 24,
   "id": "23cb90cd-9cdd-4fdd-8d18-588fe274ccbf",
   "metadata": {},
   "outputs": [
    {
     "data": {
      "text/plain": [
       "1359"
      ]
     },
     "execution_count": 24,
     "metadata": {},
     "output_type": "execute_result"
    }
   ],
   "source": [
    "count_1"
   ]
  },
  {
   "cell_type": "markdown",
   "id": "4c79b426-831f-42e0-9979-521b41d41406",
   "metadata": {},
   "source": [
    "*As the model is imbalanced, we will use the over sampling method because the data is large.*"
   ]
  },
  {
   "cell_type": "markdown",
   "id": "35ba5c53-ea1e-4d5c-af15-d91c170e0596",
   "metadata": {},
   "source": [
    "***Over Sampling***"
   ]
  },
  {
   "cell_type": "code",
   "execution_count": 25,
   "id": "1facab9d-95b6-45ba-badd-2ac1eec6a5ba",
   "metadata": {},
   "outputs": [
    {
     "data": {
      "text/plain": [
       "(1047209, 10)"
      ]
     },
     "execution_count": 25,
     "metadata": {},
     "output_type": "execute_result"
    }
   ],
   "source": [
    "df_1 = df_1.sample(count_0,replace=True)\n",
    "df_1.shape"
   ]
  },
  {
   "cell_type": "code",
   "execution_count": 26,
   "id": "b3d67a52-a487-4e78-a3e5-3d68dea3cd5a",
   "metadata": {},
   "outputs": [
    {
     "data": {
      "text/plain": [
       "isFraud\n",
       "0    1047209\n",
       "1    1047209\n",
       "Name: count, dtype: int64"
      ]
     },
     "execution_count": 26,
     "metadata": {},
     "output_type": "execute_result"
    }
   ],
   "source": [
    "df_test = pd.concat([df_0,df_1],axis=0)\n",
    "df_test.isFraud.value_counts()"
   ]
  },
  {
   "cell_type": "markdown",
   "id": "25947472-2d21-4cfc-9e9f-c51cef30a025",
   "metadata": {},
   "source": [
    "***Split the data into independent and target variables***"
   ]
  },
  {
   "cell_type": "code",
   "execution_count": 27,
   "id": "a5f04282",
   "metadata": {},
   "outputs": [],
   "source": [
    "x = df_test.iloc[:,:-1]\n",
    "y = df_test.iloc[:,-1]"
   ]
  },
  {
   "cell_type": "markdown",
   "id": "19b92994-bea2-406b-abdc-43ebf874696e",
   "metadata": {},
   "source": [
    "***Split the data into train and test***"
   ]
  },
  {
   "cell_type": "code",
   "execution_count": 28,
   "id": "ee922097-39bf-44d2-9238-7ec9d10f5dad",
   "metadata": {},
   "outputs": [],
   "source": [
    "from sklearn.model_selection import train_test_split, cross_val_score\n",
    "xtrain,xtest,ytrain,ytest = train_test_split(x,y,test_size=0.25,random_state=1)"
   ]
  },
  {
   "cell_type": "markdown",
   "id": "359ef5c6-a586-4f17-82a0-a4d505fc5441",
   "metadata": {},
   "source": [
    "***Import algorithms for training***"
   ]
  },
  {
   "cell_type": "code",
   "execution_count": 29,
   "id": "5e246b7f-2393-426a-8bc3-657cc16a66fb",
   "metadata": {},
   "outputs": [],
   "source": [
    "from sklearn.metrics import accuracy_score\n",
    "from sklearn.linear_model import LogisticRegression\n",
    "from sklearn.ensemble import RandomForestClassifier\n",
    "from sklearn.tree import DecisionTreeClassifier\n",
    "from xgboost import XGBClassifier\n",
    "from sklearn.ensemble import AdaBoostClassifier"
   ]
  },
  {
   "cell_type": "code",
   "execution_count": 30,
   "id": "5f76266a-55ab-4a9e-b610-f91bb5ef0679",
   "metadata": {},
   "outputs": [],
   "source": [
    "def mymodel(model):\n",
    "    model.fit(xtrain,ytrain)\n",
    "    yp = model.predict(xtest)\n",
    "    ac = accuracy_score(ytest,yp)\n",
    "    print('Accuracy:', ac)   "
   ]
  },
  {
   "cell_type": "markdown",
   "id": "563342e4-7525-400f-ac3f-f3f2cf455819",
   "metadata": {},
   "source": [
    "***Train the model using different algorithms :***"
   ]
  },
  {
   "cell_type": "markdown",
   "id": "9347ad01-4cba-41d9-b020-e9bffea0f8e5",
   "metadata": {},
   "source": [
    "***1. Random Forest Algorithm***"
   ]
  },
  {
   "cell_type": "code",
   "execution_count": 31,
   "id": "3f69a18c-c326-47f0-9321-167f217d314c",
   "metadata": {
    "scrolled": true
   },
   "outputs": [
    {
     "name": "stdout",
     "output_type": "stream",
     "text": [
      "Max_depth: 50\n",
      "Accuracy: 0.9999847213070922\n",
      "None\n",
      "Max_depth: 51\n",
      "Accuracy: 0.9999904508169326\n",
      "None\n",
      "Max_depth: 52\n",
      "Accuracy: 0.9999885409803191\n",
      "None\n",
      "Max_depth: 53\n",
      "Accuracy: 0.9999885409803191\n",
      "None\n",
      "Max_depth: 54\n",
      "Accuracy: 0.9999904508169326\n",
      "None\n",
      "Max_depth: 55\n",
      "Accuracy: 0.9999866311437057\n",
      "None\n",
      "Max_depth: 56\n",
      "Accuracy: 0.9999847213070922\n",
      "None\n",
      "Max_depth: 57\n",
      "Accuracy: 0.9999904508169326\n",
      "None\n",
      "Max_depth: 58\n",
      "Accuracy: 0.9999866311437057\n",
      "None\n",
      "Max_depth: 59\n",
      "Accuracy: 0.9999885409803191\n",
      "None\n",
      "Max_depth: 60\n",
      "Accuracy: 0.9999885409803191\n",
      "None\n",
      "Max_depth: 61\n",
      "Accuracy: 0.9999828114704787\n",
      "None\n",
      "Max_depth: 62\n",
      "Accuracy: 0.9999847213070922\n",
      "None\n",
      "Max_depth: 63\n",
      "Accuracy: 0.9999866311437057\n",
      "None\n",
      "Max_depth: 64\n",
      "Accuracy: 0.9999847213070922\n",
      "None\n"
     ]
    }
   ],
   "source": [
    "for i in range(50,65):\n",
    "    rf = RandomForestClassifier(max_depth=i)\n",
    "    print('Max_depth:', i)\n",
    "    print(mymodel(rf))"
   ]
  },
  {
   "cell_type": "markdown",
   "id": "d1971c69-4b74-456c-b7bf-42ef749e0e78",
   "metadata": {},
   "source": [
    "*Among the all the max_depth, 51 gives us the best accuracy i.e. 99.99%.*"
   ]
  },
  {
   "cell_type": "code",
   "execution_count": 32,
   "id": "8baaca66-3214-40ab-933a-27c8b6020302",
   "metadata": {
    "scrolled": true
   },
   "outputs": [
    {
     "name": "stdout",
     "output_type": "stream",
     "text": [
      "Min_samples_split: 2\n",
      "Accuracy: 0.9999866311437057\n",
      "None\n",
      "Min_samples_split: 3\n",
      "Accuracy: 0.9999866311437057\n",
      "None\n",
      "Min_samples_split: 4\n",
      "Accuracy: 0.9999866311437057\n",
      "None\n",
      "Min_samples_split: 5\n",
      "Accuracy: 0.9999789917972517\n",
      "None\n",
      "Min_samples_split: 6\n",
      "Accuracy: 0.9999866311437057\n",
      "None\n",
      "Min_samples_split: 7\n",
      "Accuracy: 0.9999866311437057\n",
      "None\n",
      "Min_samples_split: 8\n",
      "Accuracy: 0.9999923606535461\n",
      "None\n",
      "Min_samples_split: 9\n",
      "Accuracy: 0.9999866311437057\n",
      "None\n",
      "Min_samples_split: 10\n",
      "Accuracy: 0.9999789917972517\n",
      "None\n",
      "Min_samples_split: 11\n",
      "Accuracy: 0.9999828114704787\n",
      "None\n",
      "Min_samples_split: 12\n",
      "Accuracy: 0.9999885409803191\n",
      "None\n",
      "Min_samples_split: 13\n",
      "Accuracy: 0.9999866311437057\n",
      "None\n",
      "Min_samples_split: 14\n",
      "Accuracy: 0.9999904508169326\n",
      "None\n",
      "Min_samples_split: 15\n",
      "Accuracy: 0.9999885409803191\n",
      "None\n",
      "Min_samples_split: 16\n",
      "Accuracy: 0.9999885409803191\n",
      "None\n",
      "Min_samples_split: 17\n",
      "Accuracy: 0.9999866311437057\n",
      "None\n",
      "Min_samples_split: 18\n",
      "Accuracy: 0.9999866311437057\n",
      "None\n",
      "Min_samples_split: 19\n",
      "Accuracy: 0.9999809016338652\n",
      "None\n",
      "Min_samples_split: 20\n",
      "Accuracy: 0.9999866311437057\n",
      "None\n",
      "Min_samples_split: 21\n",
      "Accuracy: 0.9999866311437057\n",
      "None\n",
      "Min_samples_split: 22\n",
      "Accuracy: 0.9999847213070922\n",
      "None\n",
      "Min_samples_split: 23\n",
      "Accuracy: 0.9999904508169326\n",
      "None\n",
      "Min_samples_split: 24\n",
      "Accuracy: 0.9999866311437057\n",
      "None\n",
      "Min_samples_split: 25\n",
      "Accuracy: 0.9999904508169326\n",
      "None\n",
      "Min_samples_split: 26\n",
      "Accuracy: 0.9999904508169326\n",
      "None\n",
      "Min_samples_split: 27\n",
      "Accuracy: 0.9999885409803191\n",
      "None\n",
      "Min_samples_split: 28\n",
      "Accuracy: 0.9999885409803191\n",
      "None\n",
      "Min_samples_split: 29\n",
      "Accuracy: 0.9999885409803191\n",
      "None\n",
      "Min_samples_split: 30\n",
      "Accuracy: 0.9999885409803191\n",
      "None\n",
      "Min_samples_split: 31\n",
      "Accuracy: 0.9999866311437057\n",
      "None\n",
      "Min_samples_split: 32\n",
      "Accuracy: 0.9999847213070922\n",
      "None\n",
      "Min_samples_split: 33\n",
      "Accuracy: 0.9999847213070922\n",
      "None\n",
      "Min_samples_split: 34\n",
      "Accuracy: 0.9999904508169326\n",
      "None\n",
      "Min_samples_split: 35\n",
      "Accuracy: 0.9999866311437057\n",
      "None\n",
      "Min_samples_split: 36\n",
      "Accuracy: 0.9999885409803191\n",
      "None\n",
      "Min_samples_split: 37\n",
      "Accuracy: 0.9999847213070922\n",
      "None\n",
      "Min_samples_split: 38\n",
      "Accuracy: 0.9999885409803191\n",
      "None\n",
      "Min_samples_split: 39\n",
      "Accuracy: 0.9999885409803191\n",
      "None\n",
      "Min_samples_split: 40\n",
      "Accuracy: 0.9999885409803191\n",
      "None\n",
      "Min_samples_split: 41\n",
      "Accuracy: 0.9999847213070922\n",
      "None\n",
      "Min_samples_split: 42\n",
      "Accuracy: 0.9999923606535461\n",
      "None\n",
      "Min_samples_split: 43\n",
      "Accuracy: 0.9999885409803191\n",
      "None\n",
      "Min_samples_split: 44\n",
      "Accuracy: 0.9999904508169326\n",
      "None\n",
      "Min_samples_split: 45\n",
      "Accuracy: 0.9999866311437057\n",
      "None\n",
      "Min_samples_split: 46\n",
      "Accuracy: 0.9999866311437057\n",
      "None\n",
      "Min_samples_split: 47\n",
      "Accuracy: 0.9999847213070922\n",
      "None\n",
      "Min_samples_split: 48\n",
      "Accuracy: 0.9999866311437057\n",
      "None\n",
      "Min_samples_split: 49\n",
      "Accuracy: 0.9999828114704787\n",
      "None\n"
     ]
    }
   ],
   "source": [
    "for i in range(2,50):\n",
    "    rf = RandomForestClassifier(max_depth=51,min_samples_split=i)\n",
    "    print('Min_samples_split:', i)\n",
    "    print(mymodel(rf))"
   ]
  },
  {
   "cell_type": "markdown",
   "id": "da361b73-bcfa-4f78-9ac0-7543f2b5bdd5",
   "metadata": {},
   "source": [
    "*Among the all the min_samples_split, 14 gives us the best accuracy i.e. 99.99%.*"
   ]
  },
  {
   "cell_type": "code",
   "execution_count": 33,
   "id": "e870b03b-511e-4d75-965d-6a80d9d67ead",
   "metadata": {
    "scrolled": true
   },
   "outputs": [
    {
     "name": "stdout",
     "output_type": "stream",
     "text": [
      "Min_samples_leaf: 1\n",
      "Accuracy: 0.9999885409803191\n",
      "None\n",
      "Min_samples_leaf: 2\n",
      "Accuracy: 0.9999789917972517\n",
      "None\n",
      "Min_samples_leaf: 3\n",
      "Accuracy: 0.9999732622874113\n",
      "None\n",
      "Min_samples_leaf: 4\n",
      "Accuracy: 0.9999656229409574\n",
      "None\n",
      "Min_samples_leaf: 5\n",
      "Accuracy: 0.99995607375789\n",
      "None\n",
      "Min_samples_leaf: 6\n",
      "Accuracy: 0.9999446147382092\n",
      "None\n",
      "Min_samples_leaf: 7\n",
      "Accuracy: 0.9999331557185283\n",
      "None\n",
      "Min_samples_leaf: 8\n",
      "Accuracy: 0.9999216966988475\n",
      "None\n",
      "Min_samples_leaf: 9\n",
      "Accuracy: 0.9999025983327127\n",
      "None\n",
      "Min_samples_leaf: 10\n",
      "Accuracy: 0.9998854098031913\n",
      "None\n",
      "Min_samples_leaf: 11\n",
      "Accuracy: 0.9998758606201239\n",
      "None\n",
      "Min_samples_leaf: 12\n",
      "Accuracy: 0.9998510327441488\n",
      "None\n",
      "Min_samples_leaf: 13\n",
      "Accuracy: 0.9998605819272162\n",
      "None\n",
      "Min_samples_leaf: 14\n",
      "Accuracy: 0.9998338442146274\n",
      "None\n",
      "Min_samples_leaf: 15\n",
      "Accuracy: 0.9998262048681735\n",
      "None\n",
      "Min_samples_leaf: 16\n",
      "Accuracy: 0.9998013769921983\n",
      "None\n",
      "Min_samples_leaf: 17\n",
      "Accuracy: 0.9997784589528366\n",
      "None\n",
      "Min_samples_leaf: 18\n",
      "Accuracy: 0.9997631802599287\n",
      "None\n",
      "Min_samples_leaf: 19\n",
      "Accuracy: 0.9997612704233153\n",
      "None\n"
     ]
    }
   ],
   "source": [
    "for i in range(1,20):\n",
    "    rf = RandomForestClassifier(max_depth=51,min_samples_split=14,min_samples_leaf=i)\n",
    "    print('Min_samples_leaf:', i)\n",
    "    print(mymodel(rf))"
   ]
  },
  {
   "cell_type": "markdown",
   "id": "f0c48b32-fa5e-4b47-b982-cc2955f3fd82",
   "metadata": {},
   "source": [
    "*Among the all the min_samples_leaf, 1 gives us the best accuracy i.e. 99.99%.*"
   ]
  },
  {
   "cell_type": "markdown",
   "id": "0eb29995-0e01-40ba-9dd3-18b8f060e15b",
   "metadata": {},
   "source": [
    "***So the final accuracy of Random Forest Algorithm is 99.99%***"
   ]
  },
  {
   "cell_type": "markdown",
   "id": "cb62337e-fa7a-4dfc-bb05-008a1a419d11",
   "metadata": {},
   "source": [
    "***2. Logistic Regression Algorithm***"
   ]
  },
  {
   "cell_type": "code",
   "execution_count": 34,
   "id": "4a5d3625-1ae5-42f5-a397-aa3053d73008",
   "metadata": {},
   "outputs": [],
   "source": [
    "solvers = pd.Series(['lbfgs', 'liblinear', 'newton-cg', 'sag', 'saga'])"
   ]
  },
  {
   "cell_type": "code",
   "execution_count": 35,
   "id": "bfa024c1-2909-4617-a128-8f12973dd291",
   "metadata": {
    "scrolled": true
   },
   "outputs": [
    {
     "name": "stdout",
     "output_type": "stream",
     "text": [
      "Solver : lbfgs\n",
      "Accuracy: 0.8300149922174158\n",
      "None\n",
      "Solver : liblinear\n",
      "Accuracy: 0.8300149922174158\n",
      "None\n",
      "Solver : newton-cg\n",
      "Accuracy: 0.8427803401419008\n",
      "None\n",
      "Solver : sag\n",
      "Accuracy: 0.8296540330974685\n",
      "None\n",
      "Solver : saga\n",
      "Accuracy: 0.829652123260855\n",
      "None\n"
     ]
    }
   ],
   "source": [
    "for i in range(0,len(solvers)):\n",
    "    lr=LogisticRegression(solver=solvers[i])\n",
    "    print('Solver :',solvers[i])\n",
    "    print(mymodel(lr))"
   ]
  },
  {
   "cell_type": "markdown",
   "id": "0f08aaee-38dc-400b-82cf-9dc78ae7ad05",
   "metadata": {},
   "source": [
    "*Among all the solvers, newton-cg solver gives us the best accuracy i.e. 84.27%.*"
   ]
  },
  {
   "cell_type": "code",
   "execution_count": 36,
   "id": "15ba2bcd-8f74-4723-a145-75781c58e8c5",
   "metadata": {},
   "outputs": [],
   "source": [
    "penalties = pd.Series(['l2','none'])"
   ]
  },
  {
   "cell_type": "markdown",
   "id": "a50a4880-4e9b-47cd-8c22-211fb174da62",
   "metadata": {},
   "source": [
    "*As newton-cg supports only 'l2' or 'none' penalties, we will use 'l2' and 'none' for penalty iteration.*"
   ]
  },
  {
   "cell_type": "code",
   "execution_count": 37,
   "id": "d6477272-ee3c-46a3-b483-5f5ac6525e04",
   "metadata": {
    "scrolled": true
   },
   "outputs": [
    {
     "name": "stdout",
     "output_type": "stream",
     "text": [
      "Penalty : l2\n",
      "Accuracy: 0.8427803401419008\n",
      "None\n",
      "Penalty : none\n",
      "Accuracy: 0.8436149387419907\n",
      "None\n"
     ]
    }
   ],
   "source": [
    "for i in range(0,len(penalties)):\n",
    "    lr=LogisticRegression(solver='newton-cg',penalty=penalties[i])\n",
    "    print('Penalty :',penalties[i])\n",
    "    print(mymodel(lr))"
   ]
  },
  {
   "cell_type": "markdown",
   "id": "42710ce6-c606-4b87-b7a2-c5fae538b155",
   "metadata": {},
   "source": [
    "*Among all the penalties, none penalty gives us the best accuracy i.e. 84.36%.*"
   ]
  },
  {
   "cell_type": "code",
   "execution_count": 38,
   "id": "5eab2495-40c8-439e-a45b-f895166e2b11",
   "metadata": {},
   "outputs": [],
   "source": [
    "multiclass = pd.Series(['auto','ovr','multinomial'])"
   ]
  },
  {
   "cell_type": "code",
   "execution_count": 39,
   "id": "2456157a-9819-4f46-8104-d431cfb0c8e1",
   "metadata": {
    "scrolled": true
   },
   "outputs": [
    {
     "name": "stdout",
     "output_type": "stream",
     "text": [
      "Multi_class : auto\n",
      "Accuracy: 0.8436149387419907\n",
      "None\n",
      "Multi_class : ovr\n",
      "Accuracy: 0.8436149387419907\n",
      "None\n",
      "Multi_class : multinomial\n",
      "Accuracy: 0.8433704796554655\n",
      "None\n"
     ]
    }
   ],
   "source": [
    "for i in range(0,len(multiclass)):\n",
    "    lr=LogisticRegression(solver='newton-cg',penalty='none',multi_class=multiclass[i])\n",
    "    print('Multi_class :',multiclass[i])\n",
    "    print(mymodel(lr))"
   ]
  },
  {
   "cell_type": "markdown",
   "id": "5a27c1b2-8441-4353-9e76-9ff6a8e77c7f",
   "metadata": {},
   "source": [
    "*Among all the Multi-classes, auto multi_class which is a by default multi_class gives us the best accuracy i.e. 84.36%.*"
   ]
  },
  {
   "cell_type": "markdown",
   "id": "caade592-3b8a-4b15-8525-424186f71f85",
   "metadata": {},
   "source": [
    "***So the final accuracy of Logistic Regression algorithm is 84.36%***"
   ]
  },
  {
   "cell_type": "markdown",
   "id": "5de19f35-848d-4a45-a271-716dcd4f9bf4",
   "metadata": {},
   "source": [
    "***3. Decision Tree Algorithm***"
   ]
  },
  {
   "cell_type": "code",
   "execution_count": 40,
   "id": "381ee582-f20d-44f6-b8a3-83dc22e0bd99",
   "metadata": {},
   "outputs": [],
   "source": [
    "dt = DecisionTreeClassifier()"
   ]
  },
  {
   "cell_type": "code",
   "execution_count": 41,
   "id": "d6cde24c-c327-4697-a6cd-436498007918",
   "metadata": {},
   "outputs": [
    {
     "name": "stdout",
     "output_type": "stream",
     "text": [
      "Accuracy: 0.9997555409134748\n"
     ]
    }
   ],
   "source": [
    "dt.fit(xtrain,ytrain)\n",
    "yp = dt.predict(xtest)\n",
    "ac = accuracy_score(ytest,yp)\n",
    "print('Accuracy:', ac)"
   ]
  },
  {
   "cell_type": "code",
   "execution_count": 42,
   "id": "dc560d4f-5ba9-4c10-a09e-631f549309bd",
   "metadata": {},
   "outputs": [
    {
     "data": {
      "text/plain": [
       "1.0"
      ]
     },
     "execution_count": 42,
     "metadata": {},
     "output_type": "execute_result"
    }
   ],
   "source": [
    "dt.score(xtrain,ytrain)"
   ]
  },
  {
   "cell_type": "code",
   "execution_count": 43,
   "id": "7a92cf16-3f1a-495d-b2f4-de721f75e1ad",
   "metadata": {},
   "outputs": [
    {
     "data": {
      "text/plain": [
       "0.9997555409134748"
      ]
     },
     "execution_count": 43,
     "metadata": {},
     "output_type": "execute_result"
    }
   ],
   "source": [
    "dt.score(xtest,ytest)"
   ]
  },
  {
   "cell_type": "markdown",
   "id": "37d2f784-7abe-4b94-8b04-a408aaac618e",
   "metadata": {},
   "source": [
    "*Decision Tree Algorithm is always prone to overfit*"
   ]
  },
  {
   "cell_type": "code",
   "execution_count": 44,
   "id": "aa4b2cc8-ca02-4382-9ed0-3188861baa43",
   "metadata": {
    "scrolled": true
   },
   "outputs": [
    {
     "name": "stdout",
     "output_type": "stream",
     "text": [
      "Max_depth: 50\n",
      "Accuracy: 0.9997345327107265\n",
      "None\n",
      "Max_depth: 51\n",
      "Accuracy: 0.9997727294429961\n",
      "None\n",
      "Max_depth: 52\n",
      "Accuracy: 0.9997574507500884\n",
      "None\n",
      "Max_depth: 53\n",
      "Accuracy: 0.9997517212402479\n",
      "None\n",
      "Max_depth: 54\n",
      "Accuracy: 0.9997727294429961\n",
      "None\n",
      "Max_depth: 55\n",
      "Accuracy: 0.9997536310768613\n",
      "None\n",
      "Max_depth: 56\n",
      "Accuracy: 0.9997631802599287\n",
      "None\n",
      "Max_depth: 57\n",
      "Accuracy: 0.9997345327107265\n",
      "None\n",
      "Max_depth: 58\n",
      "Accuracy: 0.9997536310768613\n",
      "None\n",
      "Max_depth: 59\n",
      "Accuracy: 0.9997440818937939\n",
      "None\n",
      "Max_depth: 60\n",
      "Accuracy: 0.9997650900965422\n",
      "None\n",
      "Max_depth: 61\n",
      "Accuracy: 0.9997498114036344\n",
      "None\n",
      "Max_depth: 62\n",
      "Accuracy: 0.9997669999331558\n",
      "None\n",
      "Max_depth: 63\n",
      "Accuracy: 0.9997574507500884\n",
      "None\n",
      "Max_depth: 64\n",
      "Accuracy: 0.9997822786260635\n",
      "None\n"
     ]
    }
   ],
   "source": [
    "for i in range(50,65):\n",
    "    dt = DecisionTreeClassifier(max_depth=i)\n",
    "    print('Max_depth:', i)\n",
    "    print(mymodel(dt))"
   ]
  },
  {
   "cell_type": "markdown",
   "id": "847a2c14-02a3-4f00-aaee-0656bcb2cc75",
   "metadata": {},
   "source": [
    "*Among the all the max_depth, 51 gives us the best accuracy i.e. 99.97%.*"
   ]
  },
  {
   "cell_type": "code",
   "execution_count": 45,
   "id": "57933f29-98e5-49c1-862e-a6aaf005df4b",
   "metadata": {},
   "outputs": [
    {
     "name": "stdout",
     "output_type": "stream",
     "text": [
      "Min_samples_split: 2\n",
      "Accuracy: 0.9997536310768613\n",
      "None\n",
      "Min_samples_split: 3\n",
      "Accuracy: 0.999747901567021\n",
      "None\n",
      "Min_samples_split: 4\n",
      "Accuracy: 0.9997421720571805\n",
      "None\n",
      "Min_samples_split: 5\n",
      "Accuracy: 0.9997574507500884\n",
      "None\n",
      "Min_samples_split: 6\n",
      "Accuracy: 0.9997593605867018\n",
      "None\n",
      "Min_samples_split: 7\n",
      "Accuracy: 0.9997498114036344\n",
      "None\n",
      "Min_samples_split: 8\n",
      "Accuracy: 0.9997555409134748\n",
      "None\n",
      "Min_samples_split: 9\n",
      "Accuracy: 0.9997517212402479\n",
      "None\n",
      "Min_samples_split: 10\n",
      "Accuracy: 0.9997631802599287\n",
      "None\n",
      "Min_samples_split: 11\n",
      "Accuracy: 0.999747901567021\n",
      "None\n",
      "Min_samples_split: 12\n",
      "Accuracy: 0.9997555409134748\n",
      "None\n",
      "Min_samples_split: 13\n",
      "Accuracy: 0.999740262220567\n",
      "None\n",
      "Min_samples_split: 14\n",
      "Accuracy: 0.9997555409134748\n",
      "None\n",
      "Min_samples_split: 15\n",
      "Accuracy: 0.999747901567021\n",
      "None\n",
      "Min_samples_split: 16\n",
      "Accuracy: 0.9997574507500884\n",
      "None\n",
      "Min_samples_split: 17\n",
      "Accuracy: 0.9997345327107265\n",
      "None\n",
      "Min_samples_split: 18\n",
      "Accuracy: 0.9997536310768613\n",
      "None\n",
      "Min_samples_split: 19\n",
      "Accuracy: 0.9997517212402479\n",
      "None\n",
      "Min_samples_split: 20\n",
      "Accuracy: 0.9997689097697692\n",
      "None\n",
      "Min_samples_split: 21\n",
      "Accuracy: 0.9997536310768613\n",
      "None\n",
      "Min_samples_split: 22\n",
      "Accuracy: 0.9997574507500884\n",
      "None\n",
      "Min_samples_split: 23\n",
      "Accuracy: 0.999747901567021\n",
      "None\n",
      "Min_samples_split: 24\n",
      "Accuracy: 0.9997459917304075\n",
      "None\n",
      "Min_samples_split: 25\n",
      "Accuracy: 0.9997574507500884\n",
      "None\n",
      "Min_samples_split: 26\n",
      "Accuracy: 0.9997555409134748\n",
      "None\n",
      "Min_samples_split: 27\n",
      "Accuracy: 0.9997727294429961\n",
      "None\n",
      "Min_samples_split: 28\n",
      "Accuracy: 0.9997498114036344\n",
      "None\n",
      "Min_samples_split: 29\n",
      "Accuracy: 0.9997498114036344\n",
      "None\n",
      "Min_samples_split: 30\n",
      "Accuracy: 0.9997650900965422\n",
      "None\n",
      "Min_samples_split: 31\n",
      "Accuracy: 0.9997517212402479\n",
      "None\n",
      "Min_samples_split: 32\n",
      "Accuracy: 0.9997708196063827\n",
      "None\n",
      "Min_samples_split: 33\n",
      "Accuracy: 0.9997555409134748\n",
      "None\n",
      "Min_samples_split: 34\n",
      "Accuracy: 0.9997498114036344\n",
      "None\n",
      "Min_samples_split: 35\n",
      "Accuracy: 0.9997383523839536\n",
      "None\n",
      "Min_samples_split: 36\n",
      "Accuracy: 0.9997803687894501\n",
      "None\n",
      "Min_samples_split: 37\n",
      "Accuracy: 0.9997708196063827\n",
      "None\n",
      "Min_samples_split: 38\n",
      "Accuracy: 0.9997555409134748\n",
      "None\n",
      "Min_samples_split: 39\n",
      "Accuracy: 0.9997383523839536\n",
      "None\n",
      "Min_samples_split: 40\n",
      "Accuracy: 0.9997612704233153\n",
      "None\n",
      "Min_samples_split: 41\n",
      "Accuracy: 0.9997650900965422\n",
      "None\n",
      "Min_samples_split: 42\n",
      "Accuracy: 0.9997631802599287\n",
      "None\n",
      "Min_samples_split: 43\n",
      "Accuracy: 0.9997555409134748\n",
      "None\n",
      "Min_samples_split: 44\n",
      "Accuracy: 0.9997631802599287\n",
      "None\n",
      "Min_samples_split: 45\n",
      "Accuracy: 0.9997459917304075\n",
      "None\n",
      "Min_samples_split: 46\n",
      "Accuracy: 0.9997459917304075\n",
      "None\n",
      "Min_samples_split: 47\n",
      "Accuracy: 0.9997860982992905\n",
      "None\n",
      "Min_samples_split: 48\n",
      "Accuracy: 0.9997612704233153\n",
      "None\n",
      "Min_samples_split: 49\n",
      "Accuracy: 0.999747901567021\n",
      "None\n"
     ]
    }
   ],
   "source": [
    "for i in range(2,50):\n",
    "    dt = DecisionTreeClassifier(max_depth=51,min_samples_split=i)\n",
    "    print('Min_samples_split:', i)\n",
    "    print(mymodel(dt))"
   ]
  },
  {
   "cell_type": "markdown",
   "id": "a19bfca3-95ef-404f-82fb-e7beaa310800",
   "metadata": {},
   "source": [
    "*Among the all the min_samples_split, 47 gives us the best accuracy i.e. 99.97%.*"
   ]
  },
  {
   "cell_type": "code",
   "execution_count": 46,
   "id": "86d8d190-0223-48ed-af9c-1d976972aaa1",
   "metadata": {
    "scrolled": true
   },
   "outputs": [
    {
     "name": "stdout",
     "output_type": "stream",
     "text": [
      "Min_samples_leaf: 1\n",
      "Accuracy: 0.9997612704233153\n",
      "None\n",
      "Min_samples_leaf: 2\n",
      "Accuracy: 0.9997058851615245\n",
      "None\n",
      "Min_samples_leaf: 3\n",
      "Accuracy: 0.9996619589194145\n",
      "None\n",
      "Min_samples_leaf: 4\n",
      "Accuracy: 0.999656229409574\n",
      "None\n",
      "Min_samples_leaf: 5\n",
      "Accuracy: 0.9996409507166661\n",
      "None\n",
      "Min_samples_leaf: 6\n",
      "Accuracy: 0.9996294916969853\n",
      "None\n",
      "Min_samples_leaf: 7\n",
      "Accuracy: 0.999572196598581\n",
      "None\n",
      "Min_samples_leaf: 8\n",
      "Accuracy: 0.9995492785592193\n",
      "None\n",
      "Min_samples_leaf: 9\n",
      "Accuracy: 0.9995206310100171\n",
      "None\n",
      "Min_samples_leaf: 10\n",
      "Accuracy: 0.9994977129706554\n",
      "None\n",
      "Min_samples_leaf: 11\n",
      "Accuracy: 0.999440417872251\n",
      "None\n",
      "Min_samples_leaf: 12\n",
      "Accuracy: 0.9994098604864354\n",
      "None\n",
      "Min_samples_leaf: 13\n",
      "Accuracy: 0.999396491630141\n",
      "None\n",
      "Min_samples_leaf: 14\n",
      "Accuracy: 0.9993411063683502\n",
      "None\n",
      "Min_samples_leaf: 15\n",
      "Accuracy: 0.999320098165602\n",
      "None\n",
      "Min_samples_leaf: 16\n",
      "Accuracy: 0.9992570735573572\n",
      "None\n",
      "Min_samples_leaf: 17\n",
      "Accuracy: 0.9992016882955663\n",
      "None\n",
      "Min_samples_leaf: 18\n",
      "Accuracy: 0.9991864096026585\n",
      "None\n",
      "Min_samples_leaf: 19\n",
      "Accuracy: 0.9991730407463641\n",
      "None\n",
      "Min_samples_leaf: 20\n",
      "Accuracy: 0.9991252948310272\n",
      "None\n",
      "Min_samples_leaf: 21\n",
      "Accuracy: 0.9990775489156902\n",
      "None\n",
      "Min_samples_leaf: 22\n",
      "Accuracy: 0.9990641800593959\n",
      "None\n",
      "Min_samples_leaf: 23\n",
      "Accuracy: 0.9990718194058499\n",
      "None\n",
      "Min_samples_leaf: 24\n",
      "Accuracy: 0.999012614470832\n",
      "None\n",
      "Min_samples_leaf: 25\n",
      "Accuracy: 0.9989877865948568\n",
      "None\n",
      "Min_samples_leaf: 26\n",
      "Accuracy: 0.9989534095358142\n",
      "None\n",
      "Min_samples_leaf: 27\n",
      "Accuracy: 0.9989935161046972\n",
      "None\n",
      "Min_samples_leaf: 28\n",
      "Accuracy: 0.9989381308429064\n",
      "None\n",
      "Min_samples_leaf: 29\n",
      "Accuracy: 0.9989075734570907\n",
      "None\n",
      "Min_samples_leaf: 30\n",
      "Accuracy: 0.9988961144374099\n",
      "None\n",
      "Min_samples_leaf: 31\n",
      "Accuracy: 0.9988369095023921\n",
      "None\n",
      "Min_samples_leaf: 32\n",
      "Accuracy: 0.9988139914630303\n",
      "None\n",
      "Min_samples_leaf: 33\n",
      "Accuracy: 0.9987815242406012\n",
      "None\n",
      "Min_samples_leaf: 34\n",
      "Accuracy: 0.9987242291421969\n",
      "None\n",
      "Min_samples_leaf: 35\n",
      "Accuracy: 0.9986898520831543\n",
      "None\n",
      "Min_samples_leaf: 36\n",
      "Accuracy: 0.9986191881284556\n",
      "None\n",
      "Min_samples_leaf: 37\n",
      "Accuracy: 0.9985714422131187\n",
      "None\n",
      "Min_samples_leaf: 38\n",
      "Accuracy: 0.9985408848273031\n",
      "None\n",
      "Min_samples_leaf: 39\n",
      "Accuracy: 0.998548524173757\n",
      "None\n",
      "Min_samples_leaf: 40\n",
      "Accuracy: 0.9984893192387392\n",
      "None\n",
      "Min_samples_leaf: 41\n",
      "Accuracy: 0.9984415733234022\n",
      "None\n",
      "Min_samples_leaf: 42\n",
      "Accuracy: 0.9984033765911327\n",
      "None\n",
      "Min_samples_leaf: 43\n",
      "Accuracy: 0.9983346224730474\n",
      "None\n",
      "Min_samples_leaf: 44\n",
      "Accuracy: 0.9982601388451218\n",
      "None\n",
      "Min_samples_leaf: 45\n",
      "Accuracy: 0.9982754175380296\n",
      "None\n",
      "Min_samples_leaf: 46\n",
      "Accuracy: 0.9982754175380296\n",
      "None\n",
      "Min_samples_leaf: 47\n",
      "Accuracy: 0.9982181224396253\n",
      "None\n",
      "Min_samples_leaf: 48\n",
      "Accuracy: 0.9981761060341288\n",
      "None\n",
      "Min_samples_leaf: 49\n",
      "Accuracy: 0.9981455486483132\n",
      "None\n"
     ]
    }
   ],
   "source": [
    "for i in range(1,50):\n",
    "    dt = DecisionTreeClassifier(max_depth=51,min_samples_split=47,min_samples_leaf=i)\n",
    "    print('Min_samples_leaf:', i)\n",
    "    print(mymodel(dt))"
   ]
  },
  {
   "cell_type": "markdown",
   "id": "1f65c5fc-0334-4230-89ac-f37d21fd9e0d",
   "metadata": {},
   "source": [
    "*Among the all the min_samples_leaf, 1 gives us the best accuracy i.e. 99.97%.*"
   ]
  },
  {
   "cell_type": "markdown",
   "id": "86d70aea-d4a4-4973-ba47-dab3b1d48a27",
   "metadata": {},
   "source": [
    "***So the final accuracy of Decision Tree Algorithm is 99.97%***"
   ]
  },
  {
   "cell_type": "code",
   "execution_count": 47,
   "id": "d7ecd74b-ba46-4a80-877b-1e74843b46a2",
   "metadata": {},
   "outputs": [
    {
     "data": {
      "text/plain": [
       "0.9983110656710887"
      ]
     },
     "execution_count": 47,
     "metadata": {},
     "output_type": "execute_result"
    }
   ],
   "source": [
    "dt.score(xtrain,ytrain)"
   ]
  },
  {
   "cell_type": "code",
   "execution_count": 48,
   "id": "5657d281-6dce-40a5-8621-f9811a1a9f2a",
   "metadata": {},
   "outputs": [
    {
     "data": {
      "text/plain": [
       "0.9981455486483132"
      ]
     },
     "execution_count": 48,
     "metadata": {},
     "output_type": "execute_result"
    }
   ],
   "source": [
    "dt.score(xtest,ytest)"
   ]
  },
  {
   "cell_type": "markdown",
   "id": "c7884045-192c-41c8-b98d-e808783225b9",
   "metadata": {},
   "source": [
    "*Before pruning, the training score was 100% and none of the models can be 100% accurate. After pruning, the training score is 99.83% which is close to the test scores.*"
   ]
  },
  {
   "cell_type": "markdown",
   "id": "0905eb82-e342-44b2-a4e1-cdc0cd36dcf0",
   "metadata": {},
   "source": [
    "***4. Extreme Gradient Boost Algorithm***"
   ]
  },
  {
   "cell_type": "code",
   "execution_count": 49,
   "id": "edbb274b-00e1-4364-925a-e6aeea1b9776",
   "metadata": {},
   "outputs": [],
   "source": [
    "xg = XGBClassifier()"
   ]
  },
  {
   "cell_type": "code",
   "execution_count": 50,
   "id": "3993cf44-ea67-464b-b798-a7952f96bacb",
   "metadata": {},
   "outputs": [
    {
     "name": "stdout",
     "output_type": "stream",
     "text": [
      "Accuracy: 0.9980519666542528\n"
     ]
    }
   ],
   "source": [
    "mymodel(xg)"
   ]
  },
  {
   "cell_type": "markdown",
   "id": "9c7d41e0-9736-4cc4-b3b1-17776b07a18a",
   "metadata": {},
   "source": [
    "***Accuracy of XGBoost Algorithm is 99.80%***"
   ]
  },
  {
   "cell_type": "markdown",
   "id": "d5d1ec7d-133d-4164-903f-3a8e30cd26be",
   "metadata": {},
   "source": [
    "***5. Adaptive Boost Algorithm***"
   ]
  },
  {
   "cell_type": "code",
   "execution_count": 51,
   "id": "5c34d1d1-7ed2-4369-9eab-8b4e6f0f02d8",
   "metadata": {},
   "outputs": [],
   "source": [
    "ada = AdaBoostClassifier()"
   ]
  },
  {
   "cell_type": "code",
   "execution_count": 52,
   "id": "20581739-db7f-407a-831a-99246ee51736",
   "metadata": {},
   "outputs": [
    {
     "name": "stdout",
     "output_type": "stream",
     "text": [
      "Accuracy: 0.9007954469495135\n"
     ]
    }
   ],
   "source": [
    "mymodel(ada)"
   ]
  },
  {
   "cell_type": "markdown",
   "id": "d1a07d1d-2b6f-40b0-ad40-5eda4aabb47e",
   "metadata": {},
   "source": [
    "***Accuracy of Adaptive Boost Algorithm is 90.07%***"
   ]
  },
  {
   "cell_type": "markdown",
   "id": "64e6400b-9b65-4590-81f5-03d7ab851d42",
   "metadata": {},
   "source": [
    "***FROM THE ABOVE 5 ALGORITHMS, RANDOM FOREST IS THE BEST ALGORITHM WHICH GIVES US 99.99% ACCURACY***"
   ]
  }
 ],
 "metadata": {
  "kernelspec": {
   "display_name": "Python 3 (ipykernel)",
   "language": "python",
   "name": "python3"
  },
  "language_info": {
   "codemirror_mode": {
    "name": "ipython",
    "version": 3
   },
   "file_extension": ".py",
   "mimetype": "text/x-python",
   "name": "python",
   "nbconvert_exporter": "python",
   "pygments_lexer": "ipython3",
   "version": "3.11.5"
  }
 },
 "nbformat": 4,
 "nbformat_minor": 5
}
